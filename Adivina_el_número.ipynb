{
  "nbformat": 4,
  "nbformat_minor": 0,
  "metadata": {
    "colab": {
      "provenance": [],
      "authorship_tag": "ABX9TyOSCVcYkNNeFGuJO6lo1Icz",
      "include_colab_link": true
    },
    "kernelspec": {
      "name": "python3",
      "display_name": "Python 3"
    },
    "language_info": {
      "name": "python"
    }
  },
  "cells": [
    {
      "cell_type": "markdown",
      "metadata": {
        "id": "view-in-github",
        "colab_type": "text"
      },
      "source": [
        "<a href=\"https://colab.research.google.com/github/Kevin-2099/Adivina-el-numero/blob/main/Adivina_el_n%C3%BAmero.ipynb\" target=\"_parent\"><img src=\"https://colab.research.google.com/assets/colab-badge.svg\" alt=\"Open In Colab\"/></a>"
      ]
    },
    {
      "cell_type": "code",
      "execution_count": null,
      "metadata": {
        "colab": {
          "base_uri": "https://localhost:8080/"
        },
        "id": "yJq9usOXIr3Y",
        "outputId": "a79ee3f2-ff84-4ca5-933d-9fcee6124512"
      },
      "outputs": [
        {
          "output_type": "stream",
          "name": "stdout",
          "text": [
            "Adivina el número (1-100): 10\n",
            "Demasiado bajo\n",
            "Adivina el número (1-100): 13\n",
            "Demasiado alto\n",
            "Adivina el número (1-100): 11\n",
            "¡Correcto!\n"
          ]
        }
      ],
      "source": [
        "import random\n",
        "\n",
        "numero_secreto = random.randint(1, 100)\n",
        "intento = None\n",
        "\n",
        "while intento != numero_secreto:\n",
        "    intento = int(input(\"Adivina el número (1-100): \"))\n",
        "    if intento < numero_secreto:\n",
        "        print(\"Demasiado bajo\")\n",
        "    elif intento > numero_secreto:\n",
        "        print(\"Demasiado alto\")\n",
        "    else:\n",
        "        print(\"¡Correcto!\")\n"
      ]
    }
  ]
}